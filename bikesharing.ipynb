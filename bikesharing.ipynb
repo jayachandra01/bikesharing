{
  "nbformat": 4,
  "nbformat_minor": 0,
  "metadata": {
    "colab": {
      "provenance": []
    },
    "kernelspec": {
      "name": "python3",
      "display_name": "Python 3"
    },
    "language_info": {
      "name": "python"
    }
  },
  "cells": [
    {
      "cell_type": "code",
      "execution_count": null,
      "metadata": {
        "id": "9ONO5T0lp3J1"
      },
      "outputs": [],
      "source": [
        "# Import necessary libraries\n",
        "import numpy as np\n",
        "import pandas as pd\n",
        "import matplotlib.pyplot as plt\n",
        "from sklearn.model_selection import train_test_split\n",
        "from sklearn.ensemble import RandomForestRegressor\n",
        "from sklearn.metrics import mean_squared_error, mean_absolute_error\n",
        "\n",
        "# Load the dataset\n",
        "url = \"https://raw.githubusercontent.com/jbrownlee/Datasets/master/bike-sharing-dataset/hour.csv\"\n",
        "dataset = pd.read_csv(url)\n",
        "\n",
        "# Convert categorical variables to dummy variables\n",
        "dataset = pd.get_dummies(dataset, columns=['season', 'holiday', 'weather', 'weekday', 'workingday', 'month'])\n",
        "\n",
        "# Split dataset into features and target variable\n",
        "X = dataset.drop(['instant', 'dteday', 'cnt'], axis=1)\n",
        "y = dataset['cnt']\n",
        "\n",
        "# Split dataset into training set and test set\n",
        "X_train, X_test, y_train, y_test = train_test_split(X, y, test_size=0.2, random_state=0)\n",
        "\n",
        "# Train the Random Forest regressor\n",
        "regressor = RandomForestRegressor(n_estimators=100, random_state=0)\n",
        "regressor.fit(X_train, y_train)\n",
        "\n",
        "# Predict the test set results\n",
        "y_pred = regressor.predict(X_test)\n",
        "\n",
        "# Evaluate model\n",
        "mse = mean_squared_error(y_test, y_pred)\n",
        "mae = mean_absolute_error(y_test, y_pred)\n",
        "print(\"Mean Squared Error:\", mse)\n",
        "print(\"Mean Absolute Error:\", mae)\n",
        "\n",
        "# Visualize actual vs predicted demand\n",
        "plt.figure(figsize=(10, 6))\n",
        "plt.scatter(y_test, y_pred, color='blue')\n",
        "plt.plot([min(y_test), max(y_test)], [min(y_test), max(y_test)], color='red', linestyle='--')\n",
        "plt.xlabel(\"Actual Demand\")\n",
        "plt.ylabel(\"Predicted Demand\")\n",
        "plt.title(\"Actual vs Predicted Bike Sharing Demand\")\n",
        "plt.show()\n"
      ]
    }
  ]
}